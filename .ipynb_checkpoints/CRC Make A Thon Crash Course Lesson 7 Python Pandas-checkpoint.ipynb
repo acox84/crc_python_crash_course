{
 "cells": [
  {
   "cell_type": "markdown",
   "metadata": {},
   "source": [
    "# Using Python Pandas"
   ]
  },
  {
   "cell_type": "markdown",
   "metadata": {},
   "source": [
    "Pandas is a table or 'data frame' based data collection. Before we reviewed lists, tuples, dictionaries, and sets. Pythons are a table data collection composed of three parts: 1. A row index, 2. A column index, and 3. a table/array of values. We will review how to construct pandas dataframes from lists/dictionaries and how to read/write dataframes to files. The next lesson will cover slicing/selecting data, plotting data, and manipulating indexes. "
   ]
  },
  {
   "cell_type": "markdown",
   "metadata": {},
   "source": [
    "To use pandas you have to import the library first. Python has many many 3rd party libraries that you can import and use, most of these are under permissive open source licenses. All of the packages uploaded to conda and pypi are supposed to be under open source licenses, but beware some licenses are problematic for commercial use."
   ]
  },
  {
   "cell_type": "code",
   "execution_count": null,
   "metadata": {},
   "outputs": [],
   "source": [
    "import pandas as pd \n",
    "# import pandas then give it a 'shorthand' of pd to call functions from the library"
   ]
  },
  {
   "cell_type": "code",
   "execution_count": null,
   "metadata": {},
   "outputs": [],
   "source": [
    "# Lets make some lists\n",
    "well_names = ['awesome well', 'pit of despair 1', 'pit of despair 2', 'just another well']\n",
    "apis = ['00001' , '00002', '00003', '00004']\n"
   ]
  },
  {
   "cell_type": "markdown",
   "metadata": {},
   "source": [
    "Now lets make a dataframe out of these two lists"
   ]
  },
  {
   "cell_type": "code",
   "execution_count": null,
   "metadata": {},
   "outputs": [],
   "source": [
    "# First we have to combine the lists into one list using the zip function\n",
    "combined = list(zip(well_names, apis))\n",
    "# note we had to call the list() function on zip to make the output of zip back into a list\n",
    "\n",
    "# we call pd.DataFrame to build our data frame, note we set data = to the lists and then provided a list for the column names\n",
    "well_data_frame = pd.DataFrame(data=combined, columns=['Well Names', 'API_NO'])\n",
    "#use this to display the first 4 lines of the data frame\n",
    "well_data_frame.head(4)"
   ]
  },
  {
   "cell_type": "markdown",
   "metadata": {},
   "source": [
    "We can also use dictionaries to make data frames"
   ]
  },
  {
   "cell_type": "code",
   "execution_count": null,
   "metadata": {},
   "outputs": [],
   "source": [
    "# create an empty dictionary\n",
    "well_dictionary = dict()\n",
    "\n",
    "# Set the lists equal to the column name keys\n",
    "well_dictionary['Well Names']= well_names\n",
    "well_dictionary['API_NO'] = apis\n",
    "# Create the dataframe using .from_dict\n",
    "well_data_frame2 = pd.DataFrame.from_dict(well_dictionary)\n",
    "well_data_frame.head(4)"
   ]
  },
  {
   "cell_type": "markdown",
   "metadata": {},
   "source": [
    "Now let's try writing our dataframe to a csv file"
   ]
  },
  {
   "cell_type": "code",
   "execution_count": null,
   "metadata": {},
   "outputs": [],
   "source": [
    "well_data_frame.to_csv('well_data_frame.csv')"
   ]
  },
  {
   "cell_type": "markdown",
   "metadata": {},
   "source": [
    "The CSV should have appeared in the directory that this notebook is located in. Feel free to open it in excel and look at it."
   ]
  },
  {
   "cell_type": "markdown",
   "metadata": {},
   "source": [
    "Let's Load the csv back as a data frame"
   ]
  },
  {
   "cell_type": "code",
   "execution_count": null,
   "metadata": {},
   "outputs": [],
   "source": [
    "well_data_frame3 = pd.read_csv('well_data_frame.csv')\n",
    "well_data_frame3.head(4)"
   ]
  },
  {
   "cell_type": "markdown",
   "metadata": {},
   "source": [
    "Notice that we got an extra column? That was the index from the original dataframe. Let's remove that and re-load it."
   ]
  },
  {
   "cell_type": "code",
   "execution_count": null,
   "metadata": {},
   "outputs": [],
   "source": [
    "well_data_frame.to_csv('well_data_frame.csv', index=False)"
   ]
  },
  {
   "cell_type": "code",
   "execution_count": null,
   "metadata": {},
   "outputs": [],
   "source": [
    "well_data_frame3 = pd.read_csv('well_data_frame.csv')\n",
    "well_data_frame3.head(4)"
   ]
  },
  {
   "cell_type": "markdown",
   "metadata": {},
   "source": [
    "Now our data frame looks the same! There are many options available for both .to_csv() and .read_csv(). Go to here: https://pandas.pydata.org/pandas-docs/stable/generated/pandas.DataFrame.to_csv.html\n",
    "https://pandas.pydata.org/pandas-docs/stable/generated/pandas.read_csv.html\n",
    "You can change delimiters, control the input types, and more."
   ]
  },
  {
   "cell_type": "markdown",
   "metadata": {},
   "source": [
    "### Exercise: Read in some real data from text files and display the first few rows"
   ]
  },
  {
   "cell_type": "markdown",
   "metadata": {},
   "source": [
    "TODO: Get some csv files in the directory and put them here"
   ]
  },
  {
   "cell_type": "code",
   "execution_count": null,
   "metadata": {},
   "outputs": [],
   "source": []
  }
 ],
 "metadata": {
  "kernelspec": {
   "display_name": "Python 3",
   "language": "python",
   "name": "python3"
  },
  "language_info": {
   "codemirror_mode": {
    "name": "ipython",
    "version": 3
   },
   "file_extension": ".py",
   "mimetype": "text/x-python",
   "name": "python",
   "nbconvert_exporter": "python",
   "pygments_lexer": "ipython3",
   "version": "3.7.0"
  }
 },
 "nbformat": 4,
 "nbformat_minor": 2
}
