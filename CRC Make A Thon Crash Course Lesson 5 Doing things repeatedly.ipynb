{
 "cells": [
  {
   "cell_type": "markdown",
   "metadata": {},
   "source": [
    "# Control Flow and Doing things Repeatedly"
   ]
  },
  {
   "cell_type": "markdown",
   "metadata": {},
   "source": [
    "A big part of the draw of programming is the ability to have the computer do the boring repetitive stuff in our work. This lesson we will discuss and apply **for** loops and **while** loops to various problems. This lesson combines a lot of the concepts from previous lessons like making logical decisions and collections of data"
   ]
  },
  {
   "cell_type": "code",
   "execution_count": null,
   "metadata": {
    "collapsed": true
   },
   "outputs": [],
   "source": [
    "# A list to work with\n",
    "well_names = ['Big Bear', 'Endor', 'Tim', 'Tiny', 'Elsa']"
   ]
  },
  {
   "cell_type": "markdown",
   "metadata": {},
   "source": [
    "Let start simple and print each item in the list individually. The syntax is for (name_of_item_var) in collection"
   ]
  },
  {
   "cell_type": "code",
   "execution_count": null,
   "metadata": {},
   "outputs": [],
   "source": [
    "# in this case we are looping through each item in a list\n",
    "for well_name in well_names:\n",
    "    print(well_name) # Note the indentation, everything at this indent level is excuted within the loop"
   ]
  },
  {
   "cell_type": "markdown",
   "metadata": {},
   "source": [
    "We can iterate through numbers like this:"
   ]
  },
  {
   "cell_type": "code",
   "execution_count": null,
   "metadata": {},
   "outputs": [],
   "source": [
    "for num in range(5):\n",
    "    print(well_names[num])"
   ]
  },
  {
   "cell_type": "markdown",
   "metadata": {},
   "source": [
    "If we use the wrong number, this happens"
   ]
  },
  {
   "cell_type": "code",
   "execution_count": null,
   "metadata": {},
   "outputs": [],
   "source": [
    "for num in range(6):\n",
    "    print(well_names[num])"
   ]
  },
  {
   "cell_type": "markdown",
   "metadata": {},
   "source": [
    "We can automatically get the length of a list with len()"
   ]
  },
  {
   "cell_type": "code",
   "execution_count": null,
   "metadata": {},
   "outputs": [],
   "source": [
    "for num in range(len(well_names)):\n",
    "    print(well_names[num])\n",
    "print(len(well_names))"
   ]
  },
  {
   "cell_type": "markdown",
   "metadata": {},
   "source": [
    "If we need number and the items in the collection we can use enumerate. Enumerate creates a tuple (remember those!?) that is the index and the well name. We can **unpack** the tuple by providing a variable for each value."
   ]
  },
  {
   "cell_type": "code",
   "execution_count": null,
   "metadata": {},
   "outputs": [],
   "source": [
    "for a_tuple in enumerate(well_names):\n",
    "    print(a_tuple) # add the number to the well name\n",
    "\n",
    "print('With tuple unpacking')\n",
    "\n",
    "for num, well_name in enumerate(well_names):\n",
    "    print( well_name + '_{}'.format(num)) # add the number to the well name\n"
   ]
  },
  {
   "cell_type": "markdown",
   "metadata": {},
   "source": [
    "We can also loop over dictionaries using .items()"
   ]
  },
  {
   "cell_type": "code",
   "execution_count": null,
   "metadata": {
    "collapsed": true
   },
   "outputs": [],
   "source": [
    "well_dictionary  = {'00000000100000' : 'Big Bear',\n",
    "                    '00000000200000' : 'Endor',\n",
    "                    '00000000300000' : 'Big Bear',\n",
    "                    '00000000400000' : 'Tim',\n",
    "                    '00000000500000' : 'Elsa',}"
   ]
  },
  {
   "cell_type": "code",
   "execution_count": null,
   "metadata": {},
   "outputs": [],
   "source": [
    "# Items creates a tuple\n",
    "for item in well_dictionary.items():\n",
    "    print(item)\n",
    "# We can unpack the tuple by providing variables\n",
    "for key, value in well_dictionary.items():\n",
    "    print(key)\n",
    "    print(value)"
   ]
  },
  {
   "cell_type": "markdown",
   "metadata": {},
   "source": [
    "**Challenge**: Can you use a for loop to correct all the keys and well names to reflect that they are re-drills?"
   ]
  },
  {
   "cell_type": "code",
   "execution_count": null,
   "metadata": {
    "collapsed": true
   },
   "outputs": [],
   "source": []
  },
  {
   "cell_type": "markdown",
   "metadata": {},
   "source": [
    "Now lets discuss while loops. While loops keep executing as long as a condition is true. This can be useful if you aren't iterating over a collection of objects, but want to execute code until an event occurs. At the core of most compute applications is a while loop that keep the programming running until either an error occurs and crashes the program or until the user decides to close it. Programmers call this the 'main' or application loop."
   ]
  },
  {
   "cell_type": "code",
   "execution_count": null,
   "metadata": {},
   "outputs": [],
   "source": [
    "counter = 1\n",
    "while counter < 11: # remember this from if statements? It works pretty much the same way!\n",
    "    print(counter)\n",
    "    counter += 1\n",
    "print('done counting!')"
   ]
  },
  {
   "cell_type": "markdown",
   "metadata": {},
   "source": [
    "While loops can be dangerous if misused in a program. If you set a condition on a while loop that will **never** be false then you have created an **infinite** loop. (Ctrl+Alt+Delete time for windows users). It is always wise to set constraints on while loops that could fail this way, just in case. **Break** statements can be used to exit for and while loops early and it pays to check for infinite loop conditions with if statements."
   ]
  },
  {
   "cell_type": "code",
   "execution_count": null,
   "metadata": {},
   "outputs": [],
   "source": [
    "counter = 1\n",
    "while counter < 11: # remember this from if statements? It works pretty much the same way!\n",
    "    print(counter)\n",
    "    counter -= 1\n",
    "    if counter < 0:\n",
    "        print('this would be an infinite loop, I saved you!')\n",
    "        break\n",
    "print('done counting!')"
   ]
  },
  {
   "cell_type": "markdown",
   "metadata": {},
   "source": [
    "Write a program to count sheep, end it when you think you'd be asleep."
   ]
  },
  {
   "cell_type": "code",
   "execution_count": null,
   "metadata": {
    "collapsed": true
   },
   "outputs": [],
   "source": []
  },
  {
   "cell_type": "markdown",
   "metadata": {},
   "source": [
    "Ok now we are going to switch outside of jupyter notebook and try creating a simple console based question and answer program."
   ]
  }
 ],
 "metadata": {
  "kernelspec": {
   "display_name": "Python 3",
   "language": "python",
   "name": "python3"
  },
  "language_info": {
   "codemirror_mode": {
    "name": "ipython",
    "version": 3
   },
   "file_extension": ".py",
   "mimetype": "text/x-python",
   "name": "python",
   "nbconvert_exporter": "python",
   "pygments_lexer": "ipython3",
   "version": "3.6.3"
  }
 },
 "nbformat": 4,
 "nbformat_minor": 2
}
